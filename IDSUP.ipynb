{
 "cells": [
  {
   "cell_type": "code",
   "execution_count": 1,
   "id": "d3f87e09",
   "metadata": {},
   "outputs": [
    {
     "name": "stdout",
     "output_type": "stream",
     "text": [
      "The input arrays are :\n",
      " A: [4, 8, 7] \n",
      " B: [5, -4, 8]\n",
      "After addition the resulting array is : [ 9  4 15]\n"
     ]
    }
   ],
   "source": [
    "import numpy as NP\n",
    "A = [4, 8, 7]\n",
    "B = [5, -4, 8]\n",
    "print(\"The input arrays are :\\n\",\"A:\",A ,\"\\n\",\"B:\",B)\n",
    "Res= NP.add(A,B)\n",
    "print(\"After addition the resulting array is :\",Res)"
   ]
  },
  {
   "cell_type": "code",
   "execution_count": 2,
   "id": "3dff9b8e",
   "metadata": {},
   "outputs": [
    {
     "name": "stdout",
     "output_type": "stream",
     "text": [
      "The input arrays are :\n",
      " A: [4, 8, 7] \n",
      " B: [5, -4, 8]\n",
      "Result of Addition is : [ 9  4 15] \n",
      " Result of Subtraction is: [-1 12 -1]\n"
     ]
    }
   ],
   "source": [
    "import numpy as NP\n",
    "A = [4, 8, 7] \n",
    "B = [5, -4, 8] \n",
    "print(\"The input arrays are :\\n\",\"A:\",A ,\"\\n\",\"B:\",B)\n",
    "Res1= NP.add(A,B)\n",
    "Res2= NP.subtract(A,B) \n",
    "print(\"Result of Addition is :\",Res1,\"\\n\",\"Result of Subtraction is:\",Res2)"
   ]
  },
  {
   "cell_type": "code",
   "execution_count": null,
   "id": "fceb61f2",
   "metadata": {},
   "outputs": [],
   "source": []
  }
 ],
 "metadata": {
  "kernelspec": {
   "display_name": "Python 3 (ipykernel)",
   "language": "python",
   "name": "python3"
  },
  "language_info": {
   "codemirror_mode": {
    "name": "ipython",
    "version": 3
   },
   "file_extension": ".py",
   "mimetype": "text/x-python",
   "name": "python",
   "nbconvert_exporter": "python",
   "pygments_lexer": "ipython3",
   "version": "3.9.7"
  }
 },
 "nbformat": 4,
 "nbformat_minor": 5
}
